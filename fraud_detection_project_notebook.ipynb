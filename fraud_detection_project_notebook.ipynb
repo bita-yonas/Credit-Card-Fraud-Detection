{
  "cells": [
    {
      "cell_type": "code",
      "execution_count": 1,
      "metadata": {
        "id": "2y9IJCR5yOWK"
      },
      "outputs": [],
      "source": [
        "import pandas as pd\n",
        "import numpy as np\n",
        "import matplotlib.pyplot as plt\n",
        "import seaborn as sns\n",
        "\n",
        "from sklearn.model_selection import train_test_split\n",
        "from sklearn.preprocessing import LabelEncoder, StandardScaler\n",
        "from sklearn.ensemble import RandomForestClassifier\n",
        "from sklearn.metrics import accuracy_score, confusion_matrix, f1_score, recall_score, precision_score\n",
        "import xgboost as xgb  # XGBoost for better performance\n"
      ]
    },
    {
      "cell_type": "code",
      "execution_count": 2,
      "metadata": {
        "id": "jWwPEr65yObl"
      },
      "outputs": [],
      "source": [
        "import pandas as pd\n",
        "\n",
        "# Load datasets\n",
        "data_train = pd.read_csv(\"fraudTrain.csv\")\n",
        "data_test = pd.read_csv(\"fraudTest.csv\")\n",
        "\n",
        "# Combine train and test datasets\n",
        "full_data = pd.concat([data_train, data_test])\n",
        "\n",
        "# Drop any missing values (if necessary)\n",
        "full_data = full_data.dropna()\n",
        "\n"
      ]
    },
    {
      "cell_type": "code",
      "execution_count": 3,
      "metadata": {
        "colab": {
          "base_uri": "https://localhost:8080/"
        },
        "id": "mhjQUWPTztyE",
        "outputId": "93dd4a1f-f1ed-4d74-f17f-bd20f2d1e623"
      },
      "outputs": [
        {
          "output_type": "stream",
          "name": "stdout",
          "text": [
            "X shape: (1852394, 22), y shape: (1852394,)\n"
          ]
        }
      ],
      "source": [
        "# Separate the target variable (y) and features (X)\n",
        "X = full_data.drop('is_fraud', axis=1)  # Drop the target column from features\n",
        "y = full_data['is_fraud']  # Define the target column\n",
        "\n",
        "# Check the shapes to confirm they’re correct\n",
        "print(f\"X shape: {X.shape}, y shape: {y.shape}\")\n"
      ]
    },
    {
      "cell_type": "code",
      "execution_count": 4,
      "metadata": {
        "colab": {
          "base_uri": "https://localhost:8080/"
        },
        "id": "wAnf3frRyOjV",
        "outputId": "8b4d8a60-8a90-4125-fd3b-99d41de5e5b3"
      },
      "outputs": [
        {
          "output_type": "stream",
          "name": "stdout",
          "text": [
            "cc_num                       int64\n",
            "amt                        float64\n",
            "zip                          int64\n",
            "lat                        float64\n",
            "long                       float64\n",
            "city_pop                     int64\n",
            "unix_time                    int64\n",
            "merch_lat                  float64\n",
            "merch_long                 float64\n",
            "category_food_dining          bool\n",
            "category_gas_transport        bool\n",
            "category_grocery_net          bool\n",
            "category_grocery_pos          bool\n",
            "category_health_fitness       bool\n",
            "category_home                 bool\n",
            "category_kids_pets            bool\n",
            "category_misc_net             bool\n",
            "category_misc_pos             bool\n",
            "category_personal_care        bool\n",
            "category_shopping_net         bool\n",
            "category_shopping_pos         bool\n",
            "category_travel               bool\n",
            "dtype: object\n"
          ]
        }
      ],
      "source": [
        "# Drop irrelevant non-numeric columns\n",
        "unused_cols = ['Unnamed: 0', 'trans_date_trans_time', 'first', 'last', 'street',\n",
        "               'gender', 'job', 'city', 'state', 'dob', 'trans_num', 'merchant']\n",
        "X = X.drop(columns=unused_cols, errors='ignore')\n",
        "\n",
        "# Optionally, encode categorical variables\n",
        "X = pd.get_dummies(X, drop_first=True)\n",
        "\n",
        "# Check if all columns are numeric\n",
        "print(X.dtypes)\n"
      ]
    },
    {
      "cell_type": "code",
      "execution_count": 5,
      "metadata": {
        "id": "Jni3zX4OyOmw"
      },
      "outputs": [],
      "source": [
        "from sklearn.preprocessing import StandardScaler\n",
        "\n",
        "# Initialize and apply the scaler\n",
        "scaler = StandardScaler()\n",
        "X = scaler.fit_transform(X)\n"
      ]
    },
    {
      "cell_type": "code",
      "execution_count": 6,
      "metadata": {
        "colab": {
          "base_uri": "https://localhost:8080/"
        },
        "id": "LsjeCHHrz2yD",
        "outputId": "f69989ac-5032-4d88-b75d-106836efa52e"
      },
      "outputs": [
        {
          "output_type": "stream",
          "name": "stdout",
          "text": [
            "Resampled X shape: (3685486, 22)\n",
            "Resampled y shape: (3685486,)\n"
          ]
        }
      ],
      "source": [
        "from imblearn.over_sampling import SMOTE\n",
        "\n",
        "# Apply SMOTE\n",
        "smote = SMOTE(random_state=42)\n",
        "X_res, y_res = smote.fit_resample(X, y)\n",
        "\n",
        "print(f\"Resampled X shape: {X_res.shape}\")\n",
        "print(f\"Resampled y shape: {y_res.shape}\")\n"
      ]
    },
    {
      "cell_type": "code",
      "execution_count": 7,
      "metadata": {
        "colab": {
          "base_uri": "https://localhost:8080/"
        },
        "id": "mWscXDcd0E3L",
        "outputId": "0479dcb0-c93f-446b-9e2d-5203c4cf8ceb"
      },
      "outputs": [
        {
          "output_type": "stream",
          "name": "stdout",
          "text": [
            "X_train shape: (2948388, 22), X_test shape: (737098, 22)\n",
            "y_train shape: (2948388,), y_test shape: (737098,)\n"
          ]
        }
      ],
      "source": [
        "from sklearn.model_selection import train_test_split\n",
        "\n",
        "# Split the resampled dataset into training and testing sets\n",
        "X_train, X_test, y_train, y_test = train_test_split(X_res, y_res, test_size=0.2, random_state=42)\n",
        "\n",
        "# Confirm the shapes\n",
        "print(f\"X_train shape: {X_train.shape}, X_test shape: {X_test.shape}\")\n",
        "print(f\"y_train shape: {y_train.shape}, y_test shape: {y_test.shape}\")\n"
      ]
    },
    {
      "cell_type": "code",
      "execution_count": 8,
      "metadata": {
        "id": "8_1cqbz70IQb"
      },
      "outputs": [],
      "source": [
        "from sklearn.ensemble import RandomForestClassifier\n",
        "\n",
        "# Initialize and train the RandomForestClassifier\n",
        "rf_model = RandomForestClassifier(random_state=42)\n",
        "rf_model.fit(X_train, y_train)\n",
        "\n",
        "# Make predictions on the test set\n",
        "y_pred = rf_model.predict(X_test)\n"
      ]
    },
    {
      "cell_type": "code",
      "execution_count": 9,
      "metadata": {
        "colab": {
          "base_uri": "https://localhost:8080/",
          "height": 819
        },
        "id": "yAwH2Vtu0M-s",
        "outputId": "33460023-d43a-4aa2-c3bf-a72159625e9d"
      },
      "outputs": [
        {
          "output_type": "stream",
          "name": "stdout",
          "text": [
            "Accuracy: 0.9988237656322497\n",
            "Precision: 0.9980271863997641\n",
            "Recall: 0.9996259473290471\n",
            "F1 Score: 0.9988259271045629\n",
            "\n",
            "Classification Report:\n",
            "               precision    recall  f1-score   support\n",
            "\n",
            "           0       1.00      1.00      1.00    368166\n",
            "           1       1.00      1.00      1.00    368932\n",
            "\n",
            "    accuracy                           1.00    737098\n",
            "   macro avg       1.00      1.00      1.00    737098\n",
            "weighted avg       1.00      1.00      1.00    737098\n",
            "\n"
          ]
        },
        {
          "output_type": "display_data",
          "data": {
            "text/plain": [
              "<Figure size 800x600 with 2 Axes>"
            ],
            "image/png": "[encoded data removed]"
          },
          "metadata": {}
        }
      ],
      "source": [
        "import matplotlib.pyplot as plt\n",
        "import seaborn as sns\n",
        "from sklearn.metrics import accuracy_score, precision_score, recall_score, f1_score, confusion_matrix, classification_report\n",
        "\n",
        "# Calculate metrics\n",
        "print('Accuracy:', accuracy_score(y_test, y_pred))\n",
        "print('Precision:', precision_score(y_test, y_pred))\n",
        "print('Recall:', recall_score(y_test, y_pred))\n",
        "print('F1 Score:', f1_score(y_test, y_pred))\n",
        "\n",
        "# Display the classification report\n",
        "print('\\nClassification Report:\\n', classification_report(y_test, y_pred))\n",
        "\n",
        "# Plot the confusion matrix\n",
        "conf_matrix = confusion_matrix(y_test, y_pred)\n",
        "plt.figure(figsize=(8, 6))\n",
        "sns.heatmap(conf_matrix, annot=True, cmap='Blues', fmt='d')\n",
        "plt.xlabel('Predicted')\n",
        "plt.ylabel('Actual')\n",
        "plt.title('Confusion Matrix')\n",
        "plt.show()\n"
      ]
    },
    {
      "cell_type": "code",
      "execution_count": 10,
      "metadata": {
        "colab": {
          "base_uri": "https://localhost:8080/"
        },
        "id": "CzjODlPK0aBE",
        "outputId": "f3130ede-4234-4739-e111-507f7300b07b"
      },
      "outputs": [
        {
          "output_type": "stream",
          "name": "stdout",
          "text": [
            "\n",
            "XGBoost Classification Report:\n",
            "               precision    recall  f1-score   support\n",
            "\n",
            "           0       1.00      0.93      0.96    368166\n",
            "           1       0.94      1.00      0.97    368932\n",
            "\n",
            "    accuracy                           0.97    737098\n",
            "   macro avg       0.97      0.97      0.97    737098\n",
            "weighted avg       0.97      0.97      0.97    737098\n",
            "\n"
          ]
        }
      ],
      "source": [
        "import xgboost as xgb\n",
        "\n",
        "# Initialize and train the XGBoost model\n",
        "xgb_model = xgb.XGBClassifier(scale_pos_weight=100, random_state=42)\n",
        "xgb_model.fit(X_train, y_train)\n",
        "\n",
        "# Make predictions on the test set\n",
        "y_pred_xgb = xgb_model.predict(X_test)\n",
        "\n",
        "# Evaluate the XGBoost model\n",
        "print('\\nXGBoost Classification Report:\\n', classification_report(y_test, y_pred_xgb))\n"
      ]
    },
    {
      "cell_type": "code",
      "execution_count": 11,
      "metadata": {
        "colab": {
          "base_uri": "https://localhost:8080/",
          "height": 564
        },
        "id": "q1T2IrRy0cpi",
        "outputId": "717c89d4-8208-4a0a-f22b-4f2e73a66c48"
      },
      "outputs": [
        {
          "output_type": "display_data",
          "data": {
            "text/plain": [
              "<Figure size 1000x600 with 1 Axes>"
            ],
            "image/png": "[encoded data removed]"
          },
          "metadata": {}
        }
      ],
      "source": [
        "# Feature importance plot for RandomForest\n",
        "importances = rf_model.feature_importances_\n",
        "feature_names = [f'Feature {i}' for i in range(X_train.shape[1])]\n",
        "plt.figure(figsize=(10, 6))\n",
        "plt.barh(feature_names, importances)\n",
        "plt.xlabel('Importance')\n",
        "plt.title('Feature Importances')\n",
        "plt.show()\n"
      ]
    },
    {
      "cell_type": "code",
      "execution_count": 12,
      "metadata": {
        "id": "LhEq6OOLBBSP"
      },
      "outputs": [],
      "source": [
        "import joblib\n",
        "\n",
        "# Save the model\n",
        "joblib.dump(rf_model, 'fraud_detection_rf_model.pkl')\n",
        "\n",
        "# Load the model later if needed\n",
        "loaded_model = joblib.load('fraud_detection_rf_model.pkl')\n"
      ]
    },
    {
      "cell_type": "code",
      "execution_count": 13,
      "metadata": {
        "colab": {
          "base_uri": "https://localhost:8080/"
        },
        "id": "e9Hz_jnJCD4f",
        "outputId": "5ea19020-41cd-4455-e18f-403b32fff676"
      },
      "outputs": [
        {
          "output_type": "stream",
          "name": "stdout",
          "text": [
            "\n",
            "RandomForest Classification Report:\n",
            "               precision    recall  f1-score   support\n",
            "\n",
            "           0       1.00      1.00      1.00    368166\n",
            "           1       1.00      1.00      1.00    368932\n",
            "\n",
            "    accuracy                           1.00    737098\n",
            "   macro avg       1.00      1.00      1.00    737098\n",
            "weighted avg       1.00      1.00      1.00    737098\n",
            "\n"
          ]
        }
      ],
      "source": [
        "from sklearn.ensemble import RandomForestClassifier\n",
        "from sklearn.metrics import classification_report\n",
        "\n",
        "# Initialize and train the RandomForest model\n",
        "rf_model = RandomForestClassifier(random_state=42)\n",
        "rf_model.fit(X_train, y_train)\n",
        "\n",
        "# Make predictions on the test set\n",
        "y_pred_rf = rf_model.predict(X_test)\n",
        "\n",
        "# Evaluate the RandomForest model\n",
        "print('\\nRandomForest Classification Report:\\n', classification_report(y_test, y_pred_rf))\n"
      ]
    },
    {
      "cell_type": "code",
      "execution_count": 14,
      "metadata": {
        "id": "a8ADboUlENc5"
      },
      "outputs": [],
      "source": [
        "import joblib\n",
        "\n",
        "# Load the saved RandomForest model\n",
        "loaded_rf_model = joblib.load('fraud_detection_rf_model.pkl')\n"
      ]
    },
    {
      "cell_type": "code",
      "execution_count": 15,
      "metadata": {
        "id": "tdMc2W_oENwl"
      },
      "outputs": [],
      "source": [
        "# Use the loaded model to make predictions\n",
        "y_pred = loaded_rf_model.predict(X_test)\n"
      ]
    },
    {
      "cell_type": "code",
      "source": [
        "print(\"RandomForest Model - First 10 Predictions:\")\n",
        "for i in range(10):\n",
        "    print(f\"Actual: {y_test.iloc[i]}, Predicted: {y_pred_rf[i]}\")\n"
      ],
      "metadata": {
        "id": "2RiTsH43jsPy",
        "outputId": "def8f448-96ba-41f1-8b33-5a0adf46ee98",
        "colab": {
          "base_uri": "https://localhost:8080/"
        }
      },
      "execution_count": 17,
      "outputs": [
        {
          "output_type": "stream",
          "name": "stdout",
          "text": [
            "RandomForest Model - First 10 Predictions:\n",
            "Actual: 1, Predicted: 1\n",
            "Actual: 0, Predicted: 0\n",
            "Actual: 0, Predicted: 0\n",
            "Actual: 1, Predicted: 1\n",
            "Actual: 0, Predicted: 0\n",
            "Actual: 0, Predicted: 0\n",
            "Actual: 1, Predicted: 1\n",
            "Actual: 1, Predicted: 1\n",
            "Actual: 1, Predicted: 1\n",
            "Actual: 0, Predicted: 0\n"
          ]
        }
      ]
    },
    {
      "cell_type": "code",
      "source": [
        "import pandas as pd\n",
        "\n",
        "results_rf = pd.DataFrame({'Actual': y_test.values, 'Predicted': y_pred_rf})\n",
        "\n",
        "\n",
        "print(\"\\nFirst 10 Results:\")\n",
        "print(results_rf.head(10))\n"
      ],
      "metadata": {
        "id": "1-Jr4t51jsoJ",
        "outputId": "fe7a18b6-1ddd-4234-99d7-f4971545ea35",
        "colab": {
          "base_uri": "https://localhost:8080/"
        }
      },
      "execution_count": 18,
      "outputs": [
        {
          "output_type": "stream",
          "name": "stdout",
          "text": [
            "\n",
            "First 10 Results:\n",
            "   Actual  Predicted\n",
            "0       1          1\n",
            "1       0          0\n",
            "2       0          0\n",
            "3       1          1\n",
            "4       0          0\n",
            "5       0          0\n",
            "6       1          1\n",
            "7       1          1\n",
            "8       1          1\n",
            "9       0          0\n"
          ]
        }
      ]
    },
    {
      "cell_type": "code",
      "source": [
        "# Identify and display incorrect predictions\n",
        "incorrect_rf = results_rf[results_rf['Actual'] != results_rf['Predicted']]\n",
        "\n",
        "print(\"\\nIncorrect Predictions (RandomForest):\")\n",
        "print(incorrect_rf.head(10))\n"
      ],
      "metadata": {
        "id": "LBdL0cNtkBCt",
        "outputId": "31f595c2-3472-422f-8c5e-19ede0f1efd6",
        "colab": {
          "base_uri": "https://localhost:8080/"
        }
      },
      "execution_count": 20,
      "outputs": [
        {
          "output_type": "stream",
          "name": "stdout",
          "text": [
            "\n",
            "Incorrect Predictions (RandomForest):\n",
            "      Actual  Predicted\n",
            "313        0          1\n",
            "811        0          1\n",
            "1480       0          1\n",
            "3841       0          1\n",
            "4634       0          1\n",
            "4947       0          1\n",
            "5299       0          1\n",
            "5886       0          1\n",
            "6555       1          0\n",
            "9120       0          1\n"
          ]
        }
      ]
    },
    {
      "cell_type": "code",
      "source": [
        "import matplotlib.pyplot as plt\n",
        "\n",
        "\n",
        "fig, ax = plt.subplots(1, 2, figsize=(12, 6))\n",
        "\n",
        "# Plot actual values\n",
        "results_rf['Actual'].value_counts().plot(kind='bar', ax=ax[0], title='Actual Values', color='blue')\n",
        "ax[0].set_xlabel('Class')\n",
        "ax[0].set_ylabel('Count')\n",
        "\n",
        "# Plot predicted values\n",
        "results_rf['Predicted'].value_counts().plot(kind='bar', ax=ax[1], title='Predicted Values (RandomForest)', color='red')\n",
        "ax[1].set_xlabel('Class')\n",
        "ax[1].set_ylabel('Count')\n",
        "\n",
        "plt.tight_layout()\n",
        "plt.show()\n"
      ],
      "metadata": {
        "id": "-ewg4RW7kBTj",
        "outputId": "e1f5dc6d-a6d1-4bee-8780-988c53c57045",
        "colab": {
          "base_uri": "https://localhost:8080/",
          "height": 600
        }
      },
      "execution_count": 21,
      "outputs": [
        {
          "output_type": "display_data",
          "data": {
            "text/plain": [
              "<Figure size 1200x600 with 2 Axes>"
            ],
            "image/png": "[encoded data removed]"
          },
          "metadata": {}
        }
      ]
    },
    {
      "cell_type": "code",
      "source": [
        "from sklearn.metrics import accuracy_score, precision_score, recall_score, f1_score\n",
        "\n",
        "\n",
        "accuracy_rf = accuracy_score(y_test, y_pred_rf)\n",
        "precision_rf = precision_score(y_test, y_pred_rf)\n",
        "recall_rf = recall_score(y_test, y_pred_rf)\n",
        "f1_rf = f1_score(y_test, y_pred_rf)\n",
        "\n",
        "\n",
        "print(\"RandomForest Model - Performance Metrics:\")\n",
        "print(f\"Accuracy:  {accuracy_rf:.4f}\")\n",
        "print(f\"Precision: {precision_rf:.4f}\")\n",
        "print(f\"Recall:    {recall_rf:.4f}\")\n",
        "print(f\"F1 Score:  {f1_rf:.4f}\")\n"
      ],
      "metadata": {
        "id": "-8hEGmUklPJS",
        "outputId": "2aa88c3a-e055-4558-96a6-3ca5493a9ea8",
        "colab": {
          "base_uri": "https://localhost:8080/"
        }
      },
      "execution_count": 23,
      "outputs": [
        {
          "output_type": "stream",
          "name": "stdout",
          "text": [
            "RandomForest Model - Performance Metrics:\n",
            "Accuracy:  0.9988\n",
            "Precision: 0.9980\n",
            "Recall:    0.9996\n",
            "F1 Score:  0.9988\n"
          ]
        }
      ]
    },
    {
      "cell_type": "code",
      "source": [
        "accuracy_xgb = accuracy_score(y_test, y_pred_xgb)\n",
        "precision_xgb = precision_score(y_test, y_pred_xgb)\n",
        "recall_xgb = recall_score(y_test, y_pred_xgb)\n",
        "f1_xgb = f1_score(y_test, y_pred_xgb)\n",
        "\n",
        "\n",
        "print(\"XGBoost Model - Performance Metrics:\")\n",
        "print(f\"Accuracy:  {accuracy_xgb:.4f}\")\n",
        "print(f\"Precision: {precision_xgb:.4f}\")\n",
        "print(f\"Recall:    {recall_xgb:.4f}\")\n",
        "print(f\"F1 Score:  {f1_xgb:.4f}\")"
      ],
      "metadata": {
        "id": "mOtOjmPjlQBR",
        "outputId": "23474029-9b3c-41be-8f5f-843f0c2f4009",
        "colab": {
          "base_uri": "https://localhost:8080/"
        }
      },
      "execution_count": 24,
      "outputs": [
        {
          "output_type": "stream",
          "name": "stdout",
          "text": [
            "XGBoost Model - Performance Metrics:\n",
            "Accuracy:  0.9655\n",
            "Precision: 0.9355\n",
            "Recall:    1.0000\n",
            "F1 Score:  0.9667\n"
          ]
        }
      ]
    }
  ],
  "metadata": {
    "colab": {
      "provenance": []
    },
    "kernelspec": {
      "display_name": "Python 3",
      "name": "python3"
    },
    "language_info": {
      "name": "python"
    }
  },
  "nbformat": 4,
  "nbformat_minor": 0
}